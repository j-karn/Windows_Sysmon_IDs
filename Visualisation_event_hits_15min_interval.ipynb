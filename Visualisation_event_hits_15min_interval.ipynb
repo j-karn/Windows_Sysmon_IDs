{
  "nbformat": 4,
  "nbformat_minor": 0,
  "metadata": {
    "colab": {
      "provenance": []
    },
    "kernelspec": {
      "name": "python3",
      "display_name": "Python 3"
    },
    "language_info": {
      "name": "python"
    },
    "widgets": {
      "application/vnd.jupyter.widget-state+json": {
        "d36f9d6a1de34a54a4761a150b3c5bb8": {
          "model_module": "@jupyter-widgets/controls",
          "model_name": "SelectMultipleModel",
          "model_module_version": "1.5.0",
          "state": {
            "_dom_classes": [],
            "_model_module": "@jupyter-widgets/controls",
            "_model_module_version": "1.5.0",
            "_model_name": "SelectMultipleModel",
            "_options_labels": [
              "1",
              "2",
              "3",
              "7",
              "8",
              "10",
              "11",
              "12",
              "13",
              "17",
              "18",
              "22",
              "26",
              "29",
              "4624",
              "4625",
              "4634",
              "4647",
              "4648",
              "4672",
              "4732",
              "4776",
              "4798",
              "4799",
              "5058",
              "5059",
              "5061",
              "5379"
            ],
            "_view_count": null,
            "_view_module": "@jupyter-widgets/controls",
            "_view_module_version": "1.5.0",
            "_view_name": "SelectMultipleView",
            "description": "Show Event IDs:",
            "description_tooltip": null,
            "disabled": false,
            "index": [
              4,
              13,
              18,
              20
            ],
            "layout": "IPY_MODEL_c128befd31b740e4afa334c7ddb301e4",
            "rows": 5,
            "style": "IPY_MODEL_1842cba70518487eb460255ee160e2e1"
          }
        },
        "c128befd31b740e4afa334c7ddb301e4": {
          "model_module": "@jupyter-widgets/base",
          "model_name": "LayoutModel",
          "model_module_version": "1.2.0",
          "state": {
            "_model_module": "@jupyter-widgets/base",
            "_model_module_version": "1.2.0",
            "_model_name": "LayoutModel",
            "_view_count": null,
            "_view_module": "@jupyter-widgets/base",
            "_view_module_version": "1.2.0",
            "_view_name": "LayoutView",
            "align_content": null,
            "align_items": null,
            "align_self": null,
            "border": null,
            "bottom": null,
            "display": null,
            "flex": null,
            "flex_flow": null,
            "grid_area": null,
            "grid_auto_columns": null,
            "grid_auto_flow": null,
            "grid_auto_rows": null,
            "grid_column": null,
            "grid_gap": null,
            "grid_row": null,
            "grid_template_areas": null,
            "grid_template_columns": null,
            "grid_template_rows": null,
            "height": null,
            "justify_content": null,
            "justify_items": null,
            "left": null,
            "margin": null,
            "max_height": null,
            "max_width": null,
            "min_height": null,
            "min_width": null,
            "object_fit": null,
            "object_position": null,
            "order": null,
            "overflow": null,
            "overflow_x": null,
            "overflow_y": null,
            "padding": null,
            "right": null,
            "top": null,
            "visibility": null,
            "width": null
          }
        },
        "1842cba70518487eb460255ee160e2e1": {
          "model_module": "@jupyter-widgets/controls",
          "model_name": "DescriptionStyleModel",
          "model_module_version": "1.5.0",
          "state": {
            "_model_module": "@jupyter-widgets/controls",
            "_model_module_version": "1.5.0",
            "_model_name": "DescriptionStyleModel",
            "_view_count": null,
            "_view_module": "@jupyter-widgets/base",
            "_view_module_version": "1.2.0",
            "_view_name": "StyleView",
            "description_width": "initial"
          }
        },
        "b56f870469e348e7b6a56b1b76271fe5": {
          "model_module": "@jupyter-widgets/controls",
          "model_name": "HBoxModel",
          "model_module_version": "1.5.0",
          "state": {
            "_dom_classes": [],
            "_model_module": "@jupyter-widgets/controls",
            "_model_module_version": "1.5.0",
            "_model_name": "HBoxModel",
            "_view_count": null,
            "_view_module": "@jupyter-widgets/controls",
            "_view_module_version": "1.5.0",
            "_view_name": "HBoxView",
            "box_style": "",
            "children": [
              "IPY_MODEL_fecee623c56243b28fc85830518dc7a9",
              "IPY_MODEL_29acc4583edb473a9d1494cb016bf568"
            ],
            "layout": "IPY_MODEL_76620c8b11c245e2816a49586aba05c4"
          }
        },
        "fecee623c56243b28fc85830518dc7a9": {
          "model_module": "@jupyter-widgets/controls",
          "model_name": "ButtonModel",
          "model_module_version": "1.5.0",
          "state": {
            "_dom_classes": [],
            "_model_module": "@jupyter-widgets/controls",
            "_model_module_version": "1.5.0",
            "_model_name": "ButtonModel",
            "_view_count": null,
            "_view_module": "@jupyter-widgets/controls",
            "_view_module_version": "1.5.0",
            "_view_name": "ButtonView",
            "button_style": "",
            "description": "Plot",
            "disabled": false,
            "icon": "",
            "layout": "IPY_MODEL_b2ddbdd449da429ba69d8ede1fc1883d",
            "style": "IPY_MODEL_4d44fc66ae764a3e8cc5641b31eda586",
            "tooltip": ""
          }
        },
        "29acc4583edb473a9d1494cb016bf568": {
          "model_module": "@jupyter-widgets/controls",
          "model_name": "ButtonModel",
          "model_module_version": "1.5.0",
          "state": {
            "_dom_classes": [],
            "_model_module": "@jupyter-widgets/controls",
            "_model_module_version": "1.5.0",
            "_model_name": "ButtonModel",
            "_view_count": null,
            "_view_module": "@jupyter-widgets/controls",
            "_view_module_version": "1.5.0",
            "_view_name": "ButtonView",
            "button_style": "",
            "description": "Reset",
            "disabled": false,
            "icon": "",
            "layout": "IPY_MODEL_23139610e6c7402bb83a68566d9a3baa",
            "style": "IPY_MODEL_8c01f3e19a02425a9df02767df17ed22",
            "tooltip": ""
          }
        },
        "76620c8b11c245e2816a49586aba05c4": {
          "model_module": "@jupyter-widgets/base",
          "model_name": "LayoutModel",
          "model_module_version": "1.2.0",
          "state": {
            "_model_module": "@jupyter-widgets/base",
            "_model_module_version": "1.2.0",
            "_model_name": "LayoutModel",
            "_view_count": null,
            "_view_module": "@jupyter-widgets/base",
            "_view_module_version": "1.2.0",
            "_view_name": "LayoutView",
            "align_content": null,
            "align_items": null,
            "align_self": null,
            "border": null,
            "bottom": null,
            "display": null,
            "flex": null,
            "flex_flow": null,
            "grid_area": null,
            "grid_auto_columns": null,
            "grid_auto_flow": null,
            "grid_auto_rows": null,
            "grid_column": null,
            "grid_gap": null,
            "grid_row": null,
            "grid_template_areas": null,
            "grid_template_columns": null,
            "grid_template_rows": null,
            "height": null,
            "justify_content": null,
            "justify_items": null,
            "left": null,
            "margin": null,
            "max_height": null,
            "max_width": null,
            "min_height": null,
            "min_width": null,
            "object_fit": null,
            "object_position": null,
            "order": null,
            "overflow": null,
            "overflow_x": null,
            "overflow_y": null,
            "padding": null,
            "right": null,
            "top": null,
            "visibility": null,
            "width": null
          }
        },
        "b2ddbdd449da429ba69d8ede1fc1883d": {
          "model_module": "@jupyter-widgets/base",
          "model_name": "LayoutModel",
          "model_module_version": "1.2.0",
          "state": {
            "_model_module": "@jupyter-widgets/base",
            "_model_module_version": "1.2.0",
            "_model_name": "LayoutModel",
            "_view_count": null,
            "_view_module": "@jupyter-widgets/base",
            "_view_module_version": "1.2.0",
            "_view_name": "LayoutView",
            "align_content": null,
            "align_items": null,
            "align_self": null,
            "border": null,
            "bottom": null,
            "display": null,
            "flex": null,
            "flex_flow": null,
            "grid_area": null,
            "grid_auto_columns": null,
            "grid_auto_flow": null,
            "grid_auto_rows": null,
            "grid_column": null,
            "grid_gap": null,
            "grid_row": null,
            "grid_template_areas": null,
            "grid_template_columns": null,
            "grid_template_rows": null,
            "height": null,
            "justify_content": null,
            "justify_items": null,
            "left": null,
            "margin": null,
            "max_height": null,
            "max_width": null,
            "min_height": null,
            "min_width": null,
            "object_fit": null,
            "object_position": null,
            "order": null,
            "overflow": null,
            "overflow_x": null,
            "overflow_y": null,
            "padding": null,
            "right": null,
            "top": null,
            "visibility": null,
            "width": null
          }
        },
        "4d44fc66ae764a3e8cc5641b31eda586": {
          "model_module": "@jupyter-widgets/controls",
          "model_name": "ButtonStyleModel",
          "model_module_version": "1.5.0",
          "state": {
            "_model_module": "@jupyter-widgets/controls",
            "_model_module_version": "1.5.0",
            "_model_name": "ButtonStyleModel",
            "_view_count": null,
            "_view_module": "@jupyter-widgets/base",
            "_view_module_version": "1.2.0",
            "_view_name": "StyleView",
            "button_color": null,
            "font_weight": ""
          }
        },
        "23139610e6c7402bb83a68566d9a3baa": {
          "model_module": "@jupyter-widgets/base",
          "model_name": "LayoutModel",
          "model_module_version": "1.2.0",
          "state": {
            "_model_module": "@jupyter-widgets/base",
            "_model_module_version": "1.2.0",
            "_model_name": "LayoutModel",
            "_view_count": null,
            "_view_module": "@jupyter-widgets/base",
            "_view_module_version": "1.2.0",
            "_view_name": "LayoutView",
            "align_content": null,
            "align_items": null,
            "align_self": null,
            "border": null,
            "bottom": null,
            "display": null,
            "flex": null,
            "flex_flow": null,
            "grid_area": null,
            "grid_auto_columns": null,
            "grid_auto_flow": null,
            "grid_auto_rows": null,
            "grid_column": null,
            "grid_gap": null,
            "grid_row": null,
            "grid_template_areas": null,
            "grid_template_columns": null,
            "grid_template_rows": null,
            "height": null,
            "justify_content": null,
            "justify_items": null,
            "left": null,
            "margin": null,
            "max_height": null,
            "max_width": null,
            "min_height": null,
            "min_width": null,
            "object_fit": null,
            "object_position": null,
            "order": null,
            "overflow": null,
            "overflow_x": null,
            "overflow_y": null,
            "padding": null,
            "right": null,
            "top": null,
            "visibility": null,
            "width": null
          }
        },
        "8c01f3e19a02425a9df02767df17ed22": {
          "model_module": "@jupyter-widgets/controls",
          "model_name": "ButtonStyleModel",
          "model_module_version": "1.5.0",
          "state": {
            "_model_module": "@jupyter-widgets/controls",
            "_model_module_version": "1.5.0",
            "_model_name": "ButtonStyleModel",
            "_view_count": null,
            "_view_module": "@jupyter-widgets/base",
            "_view_module_version": "1.2.0",
            "_view_name": "StyleView",
            "button_color": null,
            "font_weight": ""
          }
        },
        "7804fa9731604374b4b603db35aa5ae8": {
          "model_module": "@jupyter-widgets/output",
          "model_name": "OutputModel",
          "model_module_version": "1.0.0",
          "state": {
            "_dom_classes": [],
            "_model_module": "@jupyter-widgets/output",
            "_model_module_version": "1.0.0",
            "_model_name": "OutputModel",
            "_view_count": null,
            "_view_module": "@jupyter-widgets/output",
            "_view_module_version": "1.0.0",
            "_view_name": "OutputView",
            "layout": "IPY_MODEL_b8355665e820423fa8cf3f45a7e9d296",
            "msg_id": "",
            "outputs": [
              {
                "output_type": "display_data",
                "data": {
                  "text/plain": "<Figure size 1000x600 with 1 Axes>",
                  "image/png": "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\n"
                },
                "metadata": {}
              }
            ]
          }
        },
        "b8355665e820423fa8cf3f45a7e9d296": {
          "model_module": "@jupyter-widgets/base",
          "model_name": "LayoutModel",
          "model_module_version": "1.2.0",
          "state": {
            "_model_module": "@jupyter-widgets/base",
            "_model_module_version": "1.2.0",
            "_model_name": "LayoutModel",
            "_view_count": null,
            "_view_module": "@jupyter-widgets/base",
            "_view_module_version": "1.2.0",
            "_view_name": "LayoutView",
            "align_content": null,
            "align_items": null,
            "align_self": null,
            "border": null,
            "bottom": null,
            "display": null,
            "flex": null,
            "flex_flow": null,
            "grid_area": null,
            "grid_auto_columns": null,
            "grid_auto_flow": null,
            "grid_auto_rows": null,
            "grid_column": null,
            "grid_gap": null,
            "grid_row": null,
            "grid_template_areas": null,
            "grid_template_columns": null,
            "grid_template_rows": null,
            "height": null,
            "justify_content": null,
            "justify_items": null,
            "left": null,
            "margin": null,
            "max_height": null,
            "max_width": null,
            "min_height": null,
            "min_width": null,
            "object_fit": null,
            "object_position": null,
            "order": null,
            "overflow": null,
            "overflow_x": null,
            "overflow_y": null,
            "padding": null,
            "right": null,
            "top": null,
            "visibility": null,
            "width": null
          }
        }
      }
    }
  },
  "cells": [
    {
      "cell_type": "markdown",
      "source": [
        "The project focuses on visualising overall event volume in 15-minute intervals, with the ability to drill down and see which Event IDs were recorded during each interval."
      ],
      "metadata": {
        "id": "c_0tPfIGYfTQ"
      }
    },
    {
      "cell_type": "code",
      "execution_count": 25,
      "metadata": {
        "id": "8kqsNas1W91B"
      },
      "outputs": [],
      "source": [
        "# libraries\n",
        "import pandas as pd\n",
        "from matplotlib import pyplot as plt\n",
        "import seaborn as sns\n",
        "import numpy as np\n",
        "import ipywidgets as widgets\n",
        "from IPython.display import display\n",
        "from ipywidgets import Layout"
      ]
    },
    {
      "cell_type": "code",
      "source": [
        "# bring csv into a dataframe\n",
        "data = pd.read_csv('mock_data.csv')\n",
        "pd.set_option('display.max_colwidth', None)"
      ],
      "metadata": {
        "colab": {
          "base_uri": "https://localhost:8080/"
        },
        "id": "hIq1aIBDYhk9",
        "outputId": "81cd88d3-3511-46e6-dda5-ce41c252b36a"
      },
      "execution_count": 26,
      "outputs": [
        {
          "output_type": "stream",
          "name": "stderr",
          "text": [
            "<ipython-input-26-00d1e36c76bc>:2: DtypeWarning: Columns (15,16,74) have mixed types. Specify dtype option on import or set low_memory=False.\n",
            "  data = pd.read_csv('mock_data.csv')\n"
          ]
        }
      ]
    },
    {
      "cell_type": "markdown",
      "source": [
        "# Understanding hit volume by 15-min interval"
      ],
      "metadata": {
        "id": "bDKVw_kFWr1U"
      }
    },
    {
      "cell_type": "code",
      "source": [
        "# create a base table for timestamp\n",
        "timestamp_table = data['timestamp']"
      ],
      "metadata": {
        "id": "eg2kITWTYhnb"
      },
      "execution_count": null,
      "outputs": []
    },
    {
      "cell_type": "code",
      "source": [
        "# extract the hour\n",
        "time_hour = timestamp_table.str.extract(r'(\\d{2}):\\d{2}:\\d{2}')\n",
        "\n",
        "# rename the column to hour\n",
        "time_hour.columns=['hour']\n",
        "time_hour.head()"
      ],
      "metadata": {
        "id": "hz0hF8RiYhqN"
      },
      "execution_count": null,
      "outputs": []
    },
    {
      "cell_type": "code",
      "source": [
        "# extract the minute\n",
        "time_min = timestamp_table.str.extract(r'\\d{2}:(\\d{2}):\\d{2}')\n",
        "\n",
        "# change datatype from object to integer\n",
        "time_min[0] = pd.to_numeric(time_min[0], errors='coerce')\n",
        "time_min.head()"
      ],
      "metadata": {
        "id": "zu7GPPL4Ymf0"
      },
      "execution_count": null,
      "outputs": []
    },
    {
      "cell_type": "code",
      "source": [
        "# create a new column and extract minute interval\n",
        "time_min['min'] = np.where(time_min[0] >= 45, '45-60', np.where((time_min[0] >= 30) & (time_min[0] < 45), '30-45', np.where((time_min[0] >=15) & (time_min[0] < 30), '15-30', '0-15')))\n",
        "time_min.head()"
      ],
      "metadata": {
        "id": "BdhcKpRpYpk7"
      },
      "execution_count": null,
      "outputs": []
    },
    {
      "cell_type": "code",
      "source": [
        "# combine timestamp, event ids, hour, min into time_dist dataframe\n",
        "time_dist = pd.concat([data['timestamp'], data['winlog.event_id'], time_hour['hour'], time_min['min']], axis=1)\n",
        "time_dist.head()"
      ],
      "metadata": {
        "id": "NvHT4bH_Ypnt"
      },
      "execution_count": null,
      "outputs": []
    },
    {
      "cell_type": "code",
      "source": [
        "# create a groupby table for the event count by time interval\n",
        "time_calc = time_dist.groupby(['hour','min']).size().reset_index(name=\"count\")\n",
        "time_calc.head()"
      ],
      "metadata": {
        "id": "Rp-c9LSgYpqb"
      },
      "execution_count": null,
      "outputs": []
    },
    {
      "cell_type": "code",
      "source": [
        "## visualise the time_calc table\n",
        "\n",
        "# create a new column combining hour and minute quarter for x-axis labels\n",
        "time_calc['hour_min'] = time_calc['hour'].astype(str) + '_' + time_calc['min']\n",
        "\n",
        "fig, ax = plt.subplots(figsize=(12, 6))\n",
        "\n",
        "# plot the bars using the new 'hour_min' column\n",
        "#ax.bar(time_calc['hour_min'], time_calc['count'])\n",
        "ax.bar(time_calc['hour_min'], time_calc['count'], color=plt.colormaps.get_cmap('tab10')(pd.factorize(time_calc['min'])[0]))\n",
        "ax.set_xlabel('Hour and Minute Quarter')\n",
        "ax.set_ylabel('Event Count')\n",
        "ax.set_title('Event Count by Hour and Minute Quarter')\n",
        "\n",
        "# rotate x-axis labels + adjust font size\n",
        "plt.xticks(rotation=90, fontsize=8)\n",
        "\n",
        "# legend\n",
        "plt.legend(handles=[plt.Rectangle((0,0),1,1, color=plt.colormaps.get_cmap('tab10')(i), label=q) for i, q in enumerate(time_calc['min'].unique())], title='Minute Quarter', loc='upper left')\n",
        "\n",
        "plt.gca().spines[['right']].set_visible(False)\n",
        "plt.tight_layout()\n",
        "plt.show()"
      ],
      "metadata": {
        "colab": {
          "base_uri": "https://localhost:8080/",
          "height": 591
        },
        "id": "mwZAWtAzYps8",
        "outputId": "0a861034-55af-4432-bde3-2c2ee31bc72a"
      },
      "execution_count": 44,
      "outputs": [
        {
          "output_type": "display_data",
          "data": {
            "text/plain": [
              "<Figure size 1200x600 with 1 Axes>"
            ],
            "image/png": "[encoded data removed]"
          },
          "metadata": {}
        }
      ]
    },
    {
      "cell_type": "markdown",
      "source": [
        "\n",
        "\n",
        "---\n",
        "\n"
      ],
      "metadata": {
        "id": "KNtQ5wr_Xela"
      }
    },
    {
      "cell_type": "markdown",
      "source": [
        "# Interactive visualisation to understand the time recorded of specific Event IDs"
      ],
      "metadata": {
        "id": "wAERQZCKW94b"
      }
    },
    {
      "cell_type": "code",
      "source": [
        "# create a groupby table for the event count by event id and time interval\n",
        "event_count_calc = time_dist.groupby(['hour','min', 'winlog.event_id']).size().reset_index(name=\"count\")\n",
        "event_count_calc.head()"
      ],
      "metadata": {
        "id": "Nmog-wEx5-Eh"
      },
      "execution_count": null,
      "outputs": []
    },
    {
      "cell_type": "code",
      "source": [
        "## visualise the event_count_calc table along with ability to select specific event ids, in the example here the selected IDs are 8, 29, 4648, and 4732\n",
        "\n",
        "# element 1: multiple select | get unique event id value to for multiple select\n",
        "unique_values_a = sorted(event_count_calc['winlog.event_id'].unique().tolist())\n",
        "\n",
        "# element 1: multiple select | create widget for multiple select\n",
        "multiple_select = widgets.SelectMultiple(\n",
        "    options=unique_values_a,\n",
        "    value=[],  # Default is no selection\n",
        "    description='Show Event IDs:',\n",
        "    disabled=False,\n",
        "    style={'description_width': 'initial'}\n",
        ")\n",
        "\n",
        "# element 2: plot button | create widget for plot button\n",
        "plot_button = widgets.Button(description='Plot')\n",
        "\n",
        "# element 3: reset button | create widget for reset Button\n",
        "reset_button = widgets.Button(description='Reset')\n",
        "\n",
        "# element 4: plot display | create a placeholder for the plot output\n",
        "plot_output = widgets.Output()\n",
        "\n",
        "# element 5: update plot | define function to update the bar chart\n",
        "def update_plot(selected_values):\n",
        "    with plot_output:\n",
        "        plot_output.clear_output(wait=True) # clear the previous plot\n",
        "        plt.figure(figsize=(10, 6))\n",
        "\n",
        "        # create 'hour_min' column for grouping\n",
        "        event_count_calc['hour_min'] = event_count_calc['hour'].astype(str) + '_' + event_count_calc['min']\n",
        "\n",
        "        # get full, sorted list of all hour_min values for x-axis\n",
        "        all_time_blocks = (event_count_calc['hour'].astype(str) + '_' + event_count_calc['min']).drop_duplicates().sort_values().tolist()\n",
        "\n",
        "        # filter by selected event IDs if any\n",
        "        if selected_values:\n",
        "            filtered_df = event_count_calc[event_count_calc['winlog.event_id'].isin(selected_values)]\n",
        "        else:\n",
        "            filtered_df = event_count_calc.copy()\n",
        "\n",
        "        # pivot the data for stacking: rows are hour_min, columns are event IDs\n",
        "        pivot_df = filtered_df.pivot_table(\n",
        "            index='hour_min',\n",
        "            columns='winlog.event_id',\n",
        "            values='count',\n",
        "            aggfunc='sum',\n",
        "            fill_value=0\n",
        "        )\n",
        "        # reindex pivot_df so x-axis always has the full time range\n",
        "        pivot_df = pivot_df.reindex(all_time_blocks, fill_value=0)\n",
        "\n",
        "        x = range(len(pivot_df.index))\n",
        "        bottom = [0] * len(pivot_df.index)\n",
        "\n",
        "        # plot each event_id's counts stacked on top of each other\n",
        "        for i, column in enumerate(pivot_df.columns):\n",
        "            plt.bar(x, pivot_df[column], bottom=bottom, label=str(column))\n",
        "            bottom = [b + v for b, v in zip(bottom, pivot_df[column])]\n",
        "\n",
        "        plt.xticks(x, pivot_df.index, rotation=45, ha='right')\n",
        "        plt.xlabel('Hour and Minute Quarter')\n",
        "        plt.xticks(rotation=90, fontsize=6)\n",
        "        plt.ylabel('Event Count')\n",
        "        plt.title('Event IDs by Hour and Minute Quarter')\n",
        "        plt.legend(title='Event ID', bbox_to_anchor=(1.05, 1), loc='upper left')\n",
        "        plt.tight_layout()\n",
        "        plt.show()\n",
        "\n",
        "# element 2: plot button | define function for Plot button click\n",
        "# update the plot using the values from multi select widget as input\n",
        "def on_plot_button_clicked(b):\n",
        "    update_plot(multiple_select.value)\n",
        "\n",
        "# element 3: reset button | define function for Reset button click\n",
        "# update the plot using a forced empty multi select\n",
        "def on_reset_button_clicked(b):\n",
        "    multiple_select.value = []\n",
        "    update_plot([])\n",
        "\n",
        "# element 3: reset button | connect the Reset button click event with corresponding function\n",
        "reset_button.on_click(on_reset_button_clicked)\n",
        "\n",
        "# element 2: plot button | connect the Plot button click event with the function\n",
        "plot_button.on_click(on_plot_button_clicked)\n",
        "\n",
        "# element 4: plot display | display the widgets and the plot output\n",
        "display(multiple_select, widgets.HBox((plot_button, reset_button)), plot_output)\n",
        "\n",
        "# Initial display of the full plot (as per default)\n",
        "update_plot([])"
      ],
      "metadata": {
        "colab": {
          "base_uri": "https://localhost:8080/",
          "height": 732,
          "referenced_widgets": [
            "d36f9d6a1de34a54a4761a150b3c5bb8",
            "c128befd31b740e4afa334c7ddb301e4",
            "1842cba70518487eb460255ee160e2e1",
            "b56f870469e348e7b6a56b1b76271fe5",
            "fecee623c56243b28fc85830518dc7a9",
            "29acc4583edb473a9d1494cb016bf568",
            "76620c8b11c245e2816a49586aba05c4",
            "b2ddbdd449da429ba69d8ede1fc1883d",
            "4d44fc66ae764a3e8cc5641b31eda586",
            "23139610e6c7402bb83a68566d9a3baa",
            "8c01f3e19a02425a9df02767df17ed22",
            "7804fa9731604374b4b603db35aa5ae8",
            "b8355665e820423fa8cf3f45a7e9d296"
          ]
        },
        "id": "bUBw5bc35-H8",
        "outputId": "d6897945-0410-4eb4-ae73-a4a06ab87f4f"
      },
      "execution_count": 50,
      "outputs": [
        {
          "output_type": "display_data",
          "data": {
            "text/plain": [
              "SelectMultiple(description='Show Event IDs:', options=(1, 2, 3, 7, 8, 10, 11, 12, 13, 17, 18, 22, 26, 29, 4624…"
            ],
            "application/vnd.jupyter.widget-view+json": {
              "version_major": 2,
              "version_minor": 0,
              "model_id": "d36f9d6a1de34a54a4761a150b3c5bb8"
            }
          },
          "metadata": {}
        },
        {
          "output_type": "display_data",
          "data": {
            "text/plain": [
              "HBox(children=(Button(description='Plot', style=ButtonStyle()), Button(description='Reset', style=ButtonStyle(…"
            ],
            "application/vnd.jupyter.widget-view+json": {
              "version_major": 2,
              "version_minor": 0,
              "model_id": "b56f870469e348e7b6a56b1b76271fe5"
            }
          },
          "metadata": {}
        },
        {
          "output_type": "display_data",
          "data": {
            "text/plain": [
              "Output()"
            ],
            "application/vnd.jupyter.widget-view+json": {
              "version_major": 2,
              "version_minor": 0,
              "model_id": "7804fa9731604374b4b603db35aa5ae8"
            }
          },
          "metadata": {}
        }
      ]
    },
    {
      "cell_type": "markdown",
      "source": [
        "\n",
        "\n",
        "---\n",
        "\n"
      ],
      "metadata": {
        "id": "Mxum2tnxYFhJ"
      }
    },
    {
      "cell_type": "code",
      "source": [],
      "metadata": {
        "id": "KE6fuX5R5-LX"
      },
      "execution_count": null,
      "outputs": []
    }
  ]
}
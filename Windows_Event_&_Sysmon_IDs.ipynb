{
  "nbformat": 4,
  "nbformat_minor": 0,
  "metadata": {
    "colab": {
      "provenance": []
    },
    "kernelspec": {
      "name": "python3",
      "display_name": "Python 3"
    },
    "language_info": {
      "name": "python"
    }
  },
  "cells": [
    {
      "cell_type": "markdown",
      "source": [
        "This project demonstrates the ability to analyse Windows Event and Sysmon IDs from a server log to detect suspicious activity indicative of potential security incidents.\n",
        "\n",
        "Developed Python scripts using `pandas`, `numpy`, `csv`, and `datetime` libraries to parse and analyse log data for events such as privilege escalation attempts, explicit credential logons, command-line executions involving network discovery and file transfers, executable file creations, and possible process injections, and produce alerts that were mapped to relevant MITRE ATT&CK techiques to contextualise adversary behaviour and support structured threat detection."
      ],
      "metadata": {
        "id": "2y22OKhMNNMU"
      }
    },
    {
      "cell_type": "code",
      "execution_count": 1,
      "metadata": {
        "id": "by_yXtMGHbxZ"
      },
      "outputs": [],
      "source": [
        "# import libraries\n",
        "import pandas as pd\n",
        "import numpy as np\n",
        "import csv\n",
        "import re\n",
        "from datetime import datetime\n",
        "from itertools import product"
      ]
    },
    {
      "cell_type": "code",
      "source": [
        "# Bring in csv data into a dataframe\n",
        "\n",
        "data_frame = pd.read_csv('mock_data.csv')\n",
        "pd.set_option('display.max_colwidth', None)"
      ],
      "metadata": {
        "id": "6MMALgiJHnjQ",
        "colab": {
          "base_uri": "https://localhost:8080/"
        },
        "outputId": "e0e4809a-1596-4cd8-a39c-39a62ab51a53"
      },
      "execution_count": 2,
      "outputs": [
        {
          "output_type": "stream",
          "name": "stderr",
          "text": [
            "<ipython-input-2-2fae600caefc>:3: DtypeWarning: Columns (15,16,74) have mixed types. Specify dtype option on import or set low_memory=False.\n",
            "  data_frame = pd.read_csv('mock_data.csv')\n"
          ]
        }
      ]
    },
    {
      "cell_type": "markdown",
      "source": [
        "\n",
        "\n",
        "---\n",
        "\n"
      ],
      "metadata": {
        "id": "Or2Fq5lgPzy8"
      }
    },
    {
      "cell_type": "markdown",
      "source": [
        "# Privilege Escalation detection"
      ],
      "metadata": {
        "id": "W3sVzIBCP0dT"
      }
    },
    {
      "cell_type": "code",
      "source": [
        "def check_possible_privilege_escalation(dataframe):\n",
        "  privilege_related_wids = [\n",
        "            4703, 4704, 4732\n",
        "            ]\n",
        "  if dataframe['winlog.event_id'].isin(privilege_related_wids).any() or (\n",
        "    ((dataframe['winlog.event_id'] == 12).any()) and\n",
        "    (dataframe['winlog.event_data.TargetObject'].astype(str).str.contains(r\"\\\\SAM|\\\\Control\\\\Lsa|HKLM\\\\SECURITY\", regex=True, case=False)).any()):\n",
        "    print(f\"\\033[1;31mAlert: Possible Privilege Escalation detected \\nT1098.001 Account Manipulation: Local Accounts | T1134 Account Token Manipulation\\033[0m\")\n",
        "    return True\n",
        "\n",
        "  #  if dataframe['winlog.event_id'].isin(privilege_related_wids).any() or ((((dataframe['winlog.event_id'] == 12).any()) and (dataframe['winlog.event_data.TargetObject'].astype(str).str.contains(r\"\\\\SAM\" or \"\\\\Control\\\\Lsa\" or \"HKLM\\\\SECURITY\", regex=True))).any()):\n",
        "  #    print(f\"\\033[1;31mAlert: Possible Privilege Escalation detected\\033[0m\")\n",
        "  #    return True\n",
        "\n",
        "def id_4732_details(dataframe):\n",
        "  # df prep\n",
        "  dataframe = dataframe[dataframe['winlog.event_id'].isin([4732])].copy()\n",
        "  dataframe['message'] = dataframe['message'].str.replace(\"\\n\", \" \", regex=True).replace(\"\\t\",\" \", regex=True)\n",
        "\n",
        "  # extract subject account name and account domain, the users who was added to the security group\n",
        "  snippet = dataframe['message'].str.extract(r'(\\A.*\\.)') # this outputs the start of the comment until first fullstop - \"short snippet\"\n",
        "  account_name = dataframe['message'].str.extract(r'Account Name:  (.*?)  Account Domain')\n",
        "  dom_account = dataframe['message'].str.extract(r'Account Domain:  (.*?)  Logon ID') # this outputs account domain\n",
        "  users_added = dataframe['message'].str.extract(r'Member:  Security ID:  (S[-\\d]+)') # this outpus the members (SID) who were added to the group\n",
        "  sec_group_id = dataframe['message'].str.extract(r'Group:  Security ID:  (S[-\\d]+)') # this outputs the GSID of the security group\n",
        "  group_domain = dataframe['message'].str.extract(r'Domain:(.+?)Domain:  (.*?)  Additional Information').iloc[:, 1:2] # this outputs the domain of the security group\n",
        "\n",
        "  # rename the column names\n",
        "  snippet.columns=['snippet']\n",
        "  account_name.columns=['account_name']\n",
        "  dom_account.columns=['account_domain']\n",
        "  users_added.columns=['users_added']\n",
        "  sec_group_id.columns=['sec_group_id']\n",
        "  group_domain.columns=['group_domain']\n",
        "\n",
        "  data_member_added_c = pd.concat((dataframe, snippet, account_name, dom_account, users_added, sec_group_id, group_domain), axis=1)\n",
        "\n",
        "  # collating information\n",
        "  event_count = data_member_added_c.shape[0]\n",
        "  id_event = np.unique(data_member_added_c['winlog.event_id'])\n",
        "  snippet = np.unique(data_member_added_c['snippet'])\n",
        "  snippet1 = [snip for snip in np.unique(data_member_added_c['snippet'])]\n",
        "  group_count = np.unique(data_member_added_c['winlog.event_data.TargetUserName']).size\n",
        "\n",
        "  for i in np.unique(data_member_added_c['winlog.event_data.TargetUserName']):\n",
        "    GSID = np.unique(data_member_added_c.loc[data_member_added_c['winlog.event_data.TargetUserName'] == i, 'sec_group_id'].values)\n",
        "    domain = np.unique(data_member_added_c.loc[data_member_added_c['winlog.event_data.TargetUserName'] == i, 'group_domain'].values)\n",
        "\n",
        "    subject = np.unique(data_member_added_c.loc[data_member_added_c['winlog.event_data.TargetUserName'] == i, 'account_name'].values)\n",
        "    logon_ID = np.unique(data_member_added_c.loc[data_member_added_c['winlog.event_data.TargetUserName'] == i, 'winlog.event_data.SubjectLogonId'].values)\n",
        "    subject_ID = np.unique(data_member_added_c.loc[data_member_added_c['winlog.event_data.TargetUserName'] == i, 'winlog.event_data.SubjectUserSid'].values)\n",
        "    users_count = np.unique(data_member_added_c['users_added']).size\n",
        "\n",
        "    for j in subject:\n",
        "      users = data_member_added_c.loc[(data_member_added_c['winlog.event_data.TargetUserName'] == i) & (data_member_added_c['account_name'] == j), 'users_added'].values\n",
        "\n",
        "    print(f\"\\n\\033[1mEvent ID {id_event}: {str(snippet)[2:-3]}\\033[0m - \\033[1m{event_count}\\033[0m records. A total of \\033[1m{group_count}\\033[0m group membership(s) was/were changed.\")\n",
        "    print(f\"\\nGroup \\033[1m'{i}'\\033[0m, SID: {GSID}, Domain: {str(domain)[1:-1]} was changed.\")\n",
        "    print(f\"\\nThe group received {users_count} new user(s), added by \\033[1m{str(subject)[1:-1]}\\033[0m, SID: {subject_ID}, Logon ID: {logon_ID}\")\n",
        "    print(f\"\\nThe users were:\\n {users}\")\n",
        "\n",
        "\n",
        "def privilege_escalation_analyse(dataframe):\n",
        "  if check_possible_privilege_escalation(dataframe):\n",
        "    id_4732_details(dataframe)\n",
        "  else:\n",
        "    return (\"No Privilege Escalation Detected\")"
      ],
      "metadata": {
        "id": "4jmhdo6sHdjT"
      },
      "execution_count": 5,
      "outputs": []
    },
    {
      "cell_type": "markdown",
      "source": [
        "## Output:"
      ],
      "metadata": {
        "id": "0XuJQtwOyEhH"
      }
    },
    {
      "cell_type": "code",
      "source": [
        "privilege_escalation_analyse(data_frame)"
      ],
      "metadata": {
        "id": "MnhxwtMEHdlh",
        "outputId": "5ace2c09-8406-4dbc-ceb8-36a249d42759",
        "colab": {
          "base_uri": "https://localhost:8080/"
        }
      },
      "execution_count": 6,
      "outputs": [
        {
          "output_type": "stream",
          "name": "stdout",
          "text": [
            "\u001b[1;31mAlert: Possible Privilege Escalation detected \n",
            "T1098.001 Account Manipulation: Local Accounts | T1134 Account Token Manipulation\u001b[0m\n",
            "\n",
            "\u001b[1mEvent ID [4732]: A member was added to a security-enabled local group\u001b[0m - \u001b[1m2\u001b[0m records. A total of \u001b[1m1\u001b[0m group membership(s) was/were changed.\n",
            "\n",
            "Group \u001b[1m'Remote Desktop Users'\u001b[0m, SID: ['S-1-5-32-555'], Domain: 'Builtin' was changed.\n",
            "\n",
            "The group received 2 new user(s), added by \u001b[1m'Administrator'\u001b[0m, SID: ['S-1-5-21-1230660491-2334538202-2907223834-500'], Logon ID: ['0x1b0617']\n",
            "\n",
            "The users were:\n",
            " ['S-1-5-21-1433274183-2673321112-2382577732-1104'\n",
            " 'S-1-5-21-1433274183-2673321112-2382577732-1107']\n"
          ]
        }
      ]
    },
    {
      "cell_type": "markdown",
      "source": [
        "\n",
        "\n",
        "---\n",
        "\n"
      ],
      "metadata": {
        "id": "_pOTn6gmPxRk"
      }
    },
    {
      "cell_type": "markdown",
      "source": [
        "# Explicit Credentials Logons"
      ],
      "metadata": {
        "id": "kAhvCIm9Pmtk"
      }
    },
    {
      "cell_type": "code",
      "source": [
        "def explicit_cred_logon(dataframe):\n",
        "  explicit_cred_wids = [\n",
        "            4648\n",
        "            ]\n",
        "  if dataframe['winlog.event_id'].isin(explicit_cred_wids).any():\n",
        "    print(f\"\\033[1;31mAlert: Explicit Credential Logon Attempt detected\\033[0m\")\n",
        "    return True\n",
        "\n",
        "def id_4648_details(dataframe):\n",
        "  # df prep and filter to those accessing critical system, in this case it's the Domain Controller\n",
        "  filtered_df = data_frame[data_frame['winlog.event_id'].isin([4648])]\n",
        "  filtered_df_DC = filtered_df['message'].astype(str).str.contains(r\"DC\\-01\", regex=True)\n",
        "  data_4648 = filtered_df[filtered_df_DC].iloc[:, [0,1,2,5,filtered_df.columns.get_loc('message')]].copy()\n",
        "  #data_4648 = filtered_df[filtered_df_DC].iloc[:, [0,1,2,5]].copy()\n",
        "  data_4648['message'] = data_4648['message'].str.replace(\"\\n\", \"\", regex=True).replace(\"\\t\",\"\", regex=True)\n",
        "  data_4648\n",
        "\n",
        "  # extract information from message\n",
        "  snippet = data_4648['message'].str.extract(r'(^\\A[^.]+\\.)')\n",
        "  process_name = data_4648['message'].str.extract(r'Process Name:([\\d|\\D|\\s|\\S]*)Network Information:')\n",
        "  s_account_name = data_4648['message'].str.extract(r'Account Name:(.*?)Account Domain')\n",
        "  s_account_domain = data_4648['message'].str.extract(r'Account Domain:(.*?)Logon ID:')\n",
        "  used_account_name = data_4648['message'].str.extract(r'Account Name:([\\d|\\D|\\s|\\S]*)Account Name:([\\d|\\D|\\s|\\S]*)Account Domain:').iloc[:, 1:2]\n",
        "  used_account_domain = data_4648['message'].str.extract(r'Account Domain:([\\d|\\D|\\s|\\S]*)Account Domain:([\\d|\\D|\\s|\\S]*)Logon GUID:').iloc[:, 1:2]\n",
        "  target_server = data_4648['message'].str.extract(r'Target Server Name:([\\d|\\D|\\s|\\S]*)Additional Information:')\n",
        "  network_address = data_4648['message'].str.extract(r'Network Address:([\\d|\\D|\\s|\\S]*)Port:')\n",
        "  network_port = data_4648['message'].str.extract(r'Port:([\\d|\\D|\\s|\\S]*)This event is generated')\n",
        "  s_SID = data_4648['message'].str.extract(r'Subject:Security ID:(S[-\\d]+)Account Name:')\n",
        "  s_logon_id = data_4648['message'].str.extract(r'Logon ID:(.*?)Logon GUID:')\n",
        "\n",
        "  # rename the column names\n",
        "  snippet.columns=['snippet']\n",
        "  process_name.columns=['process_name']\n",
        "  s_account_name.columns=['subject_account_name']\n",
        "  s_account_domain.columns=['subject_account_domain']\n",
        "  used_account_name.columns=['used_account_name']\n",
        "  used_account_domain.columns=['used_account_domain']\n",
        "  target_server.columns=['target_server']\n",
        "  network_address.columns=['network_address']\n",
        "  network_port.columns=['source_port']\n",
        "  s_SID.columns=['subject_SID']\n",
        "  s_logon_id.columns=['subject_logon_ID']\n",
        "\n",
        "\n",
        "  # epoch time understanding\n",
        "  epoch_list = [datetime.strptime(timestamp, \"%b %d, %Y @ %H:%M:%S.%f\").timestamp() for timestamp in data_4648['timestamp']]\n",
        "  data_4648['epoch'] = epoch_list\n",
        "  epoch_times = data_4648['epoch'].sort_values().tolist()\n",
        "\n",
        "  # concatenate to create a new df\n",
        "  logon_expl_cred = pd.concat((data_4648,  snippet, s_SID, s_account_name, s_account_domain, s_logon_id, used_account_name, used_account_domain, target_server, process_name, network_address, network_port), axis=1)\n",
        "  logon_expl_cred\n",
        "\n",
        "  # event count\n",
        "  event_count = logon_expl_cred.shape[0]\n",
        "  id_event = np.unique(logon_expl_cred['winlog.event_id'])\n",
        "  snippet = np.unique(logon_expl_cred['snippet'])\n",
        "  unique_target_server = np.unique(logon_expl_cred['target_server'])\n",
        "  unique_subject_count = np.unique(logon_expl_cred['subject_account_name']).size\n",
        "  unique_subject_name = logon_expl_cred['subject_account_name'].values\n",
        "  unique_subject_name = np.unique(unique_subject_name)\n",
        "  print(f\"\\n\\033[1mEvent ID {id_event}:\\033[0m {str(snippet)[2:-3]} made to \\033[1m{unique_target_server}\\033[0m - {event_count} records.\")\n",
        "\n",
        "  # time understanding\n",
        "  threshold_seconds = 10.000 # 10 seconds\n",
        "  clusters = []\n",
        "  current_cluster = [epoch_times[0]]\n",
        "\n",
        "  for i in range(1, len(epoch_times)):\n",
        "    time_diff = epoch_times[i] - current_cluster[-1]\n",
        "    if time_diff <= threshold_seconds:\n",
        "      current_cluster.append(epoch_times[i])\n",
        "    else:\n",
        "      clusters.append(current_cluster)\n",
        "      current_cluster = [epoch_times[i]]\n",
        "\n",
        "  clusters.append(current_cluster)\n",
        "\n",
        "  for i, cluster in enumerate(clusters, start=1):\n",
        "    print(f'Cluster {i}: {len(cluster)} record(s) within {threshold_seconds} seconds starting at {datetime.fromtimestamp(cluster[0]).strftime(\"%H:%M:%S.%f\")[:-3]}')\n",
        "\n",
        "# body of details\n",
        "  unique_record = np.unique(logon_expl_cred['winlog.record_id'])\n",
        "  for i in unique_record:\n",
        "    timestamp = np.unique(logon_expl_cred.loc[logon_expl_cred['winlog.record_id'] == i, 'timestamp'].values)\n",
        "    for j in timestamp:\n",
        "      process_name = np.unique(logon_expl_cred.loc[(logon_expl_cred['winlog.record_id'] == i) & (logon_expl_cred['timestamp'] == j), 'process_name'].values)\n",
        "      for p in process_name:\n",
        "        cred_used_account = np.unique(logon_expl_cred.loc[(logon_expl_cred['winlog.record_id'] == i) & (logon_expl_cred['timestamp'] == j) & (logon_expl_cred['process_name'] == p), 'used_account_name'].values)\n",
        "        for k in cred_used_account:\n",
        "          subject_name = np.unique(logon_expl_cred.loc[(logon_expl_cred['winlog.record_id'] == i) & (logon_expl_cred['timestamp'] == j) & (logon_expl_cred['process_name'] == p) & (logon_expl_cred['used_account_name'] == k), 'subject_account_name'].values)\n",
        "          for s in subject_name:\n",
        "            network_address = np.unique(logon_expl_cred.loc[(logon_expl_cred['winlog.record_id'] == i) & (logon_expl_cred['timestamp'] == j) & (logon_expl_cred['process_name'] == p) & (logon_expl_cred['used_account_name'] == k) & (logon_expl_cred['subject_account_name'] == s), 'network_address'].values)\n",
        "            for n in network_address:\n",
        "              network_port = np.unique(logon_expl_cred.loc[(logon_expl_cred['winlog.record_id'] == i) & (logon_expl_cred['timestamp'] == j) & (logon_expl_cred['process_name'] == p) & (logon_expl_cred['used_account_name'] == k) & (logon_expl_cred['subject_account_name'] == s) & (logon_expl_cred['network_address'] == n), 'source_port'].values)\n",
        "\n",
        "            print(f\"\\n\\tRecord ID: {i}, Time: {str(j)[-12:]}, \\n\\t\\tProcess Name: {p}, \\n\\t\\tCredential Used: {k}, \\n\\t\\tSubject Account: {s}, \\n\\t\\tNetwork Address: {n}, \\tNetwork Port: {network_port}\")\n",
        "\n",
        "\n",
        "def explicit_credential_logon_analyse(dataframe):\n",
        "  if explicit_cred_logon(dataframe):\n",
        "    id_4648_details(dataframe)\n",
        "  else:\n",
        "    print(\"No Event ID 4648 Detected\")"
      ],
      "metadata": {
        "id": "W_YfMXvxHdoI"
      },
      "execution_count": 7,
      "outputs": []
    },
    {
      "cell_type": "markdown",
      "source": [
        "## Output:"
      ],
      "metadata": {
        "id": "194B4hMOyKXY"
      }
    },
    {
      "cell_type": "code",
      "source": [
        "explicit_credential_logon_analyse(data_frame)"
      ],
      "metadata": {
        "id": "9Hf8sBWPIoTe",
        "colab": {
          "base_uri": "https://localhost:8080/"
        },
        "outputId": "f7b1f99a-10a2-4290-d347-04156a5da51f"
      },
      "execution_count": 8,
      "outputs": [
        {
          "output_type": "stream",
          "name": "stdout",
          "text": [
            "\u001b[1;31mAlert: Explicit Credential Logon Attempt detected\u001b[0m\n",
            "\n",
            "\u001b[1mEvent ID [4648]:\u001b[0m A logon was attempted using explicit credentials made to \u001b[1m['GMR-DC-01.glenmoret.corp']\u001b[0m - 5 records.\n",
            "Cluster 1: 3 record(s) within 10.0 seconds starting at 11:40:49.926\n",
            "Cluster 2: 1 record(s) within 10.0 seconds starting at 13:22:24.659\n",
            "Cluster 3: 1 record(s) within 10.0 seconds starting at 13:23:50.018\n",
            "\n",
            "\tRecord ID: 3908, Time: 11:40:49.926, \n",
            "\t\tProcess Name: C:\\Windows\\System32\\SystemSettingsAdminFlows.exe, \n",
            "\t\tCredential Used: administrator, \n",
            "\t\tSubject Account: Administrator, \n",
            "\t\tNetwork Address: -, \tNetwork Port: ['-']\n",
            "\n",
            "\tRecord ID: 3909, Time: 11:40:50.122, \n",
            "\t\tProcess Name: C:\\Windows\\System32\\SystemSettingsAdminFlows.exe, \n",
            "\t\tCredential Used: administrator, \n",
            "\t\tSubject Account: Administrator, \n",
            "\t\tNetwork Address: 192.168.100.13, \tNetwork Port: ['49668']\n",
            "\n",
            "\tRecord ID: 3910, Time: 11:40:58.562, \n",
            "\t\tProcess Name: C:\\Windows\\System32\\SystemSettingsAdminFlows.exe, \n",
            "\t\tCredential Used: administrator, \n",
            "\t\tSubject Account: Administrator, \n",
            "\t\tNetwork Address: -, \tNetwork Port: ['-']\n",
            "\n",
            "\tRecord ID: 4101, Time: 13:22:24.659, \n",
            "\t\tProcess Name: C:\\Windows\\explorer.exe, \n",
            "\t\tCredential Used: administrator, \n",
            "\t\tSubject Account: Administrator, \n",
            "\t\tNetwork Address: -, \tNetwork Port: ['-']\n",
            "\n",
            "\tRecord ID: 4102, Time: 13:23:50.018, \n",
            "\t\tProcess Name: C:\\Windows\\System32\\dllhost.exe, \n",
            "\t\tCredential Used: administrator, \n",
            "\t\tSubject Account: Administrator, \n",
            "\t\tNetwork Address: -, \tNetwork Port: ['-']\n"
          ]
        }
      ]
    },
    {
      "cell_type": "markdown",
      "source": [
        "\n",
        "\n",
        "---\n",
        "\n"
      ],
      "metadata": {
        "id": "yytS4HxLPkXc"
      }
    },
    {
      "cell_type": "markdown",
      "source": [
        "# Check Command Line Execution"
      ],
      "metadata": {
        "id": "9nInX1qVPecb"
      }
    },
    {
      "cell_type": "code",
      "source": [
        "def check_command_line(dataframe):\n",
        "  if (~((data_frame['winlog.event_data.CommandLine'].astype(str) == \"-\") | (data_frame['winlog.event_data.CommandLine'].astype(str) == \"\"))).any():\n",
        "    print(f\"\\033[1;31mAlert: Command Line execution detected\\033[0m\")\n",
        "    return True\n",
        "\n",
        "def cmd_details(dataframe):\n",
        "  # prep\n",
        "  data_cmd = dataframe[~((dataframe['winlog.event_data.CommandLine'].astype(str) == \"-\") | (dataframe['winlog.event_data.CommandLine'].astype(str) == \"\"))]\n",
        "  found_file_transfer = False\n",
        "  found_discovery = False\n",
        "  discovery_commands = [ \"net1 user\", \"net user\", \"net groups\" , \"ipconfig\", \"ifconfig.me\", \"arp\", \"route\", \"nslookup\", \"nbtstat\", \"tasklist\", \"systeminfo\", \"whoami\", \"ssh\", \"dir\", \"tree\"]\n",
        "  file_transfer_commands = [\"curl\", \"ftp\", \"wget\", \"scp\"]\n",
        "\n",
        "  # create patterns into a single regex\n",
        "  file_transfer_pattern = '|'.join(map(re.escape, file_transfer_commands))\n",
        "  discovery_pattern = '|'.join(map(re.escape, discovery_commands))\n",
        "\n",
        "\n",
        "  for i in file_transfer_commands:\n",
        "      if data_cmd['winlog.event_data.CommandLine'].astype(str).str.contains(i, regex=True).any():\n",
        "          found_file_transfer = True\n",
        "          break\n",
        "  for j in discovery_commands:\n",
        "      if data_cmd['winlog.event_data.CommandLine'].astype(str).str.contains(j, regex=True).any():\n",
        "          found_discovery = True\n",
        "          break\n",
        "\n",
        "  if found_file_transfer and found_discovery:\n",
        "    print(f\"\\033[31mPossible file transfer and network/ system discovery command detected: T1105 Ingress Tool Transfer | T1087 Account Discovery | T1049 System Network Connections Discovery\\033[0m\")\n",
        "\n",
        "  elif found_file_transfer and not found_discovery:\n",
        "    print(f\"\\033[31mPossible file transfer command detected: T1105 Ingress Tool Transfer\\033[0m\")\n",
        "\n",
        "  elif not found_file_transfer and found_discovery:\n",
        "    print(f\"\\033[31mPossible network or system discovery command detected: T1087 Account Discovery | T1049 System Network Connections Discovery\\033[0m\")\n",
        "\n",
        "  else:\n",
        "    print(f\"Purposes to be investigate\")\n",
        "\n",
        "\n",
        "  # For file transfer commands found, create a new dataframe\n",
        "  if found_file_transfer:\n",
        "    mask = data_cmd['winlog.event_data.CommandLine'].astype(str).str.contains(file_transfer_pattern, regex=True)\n",
        "    filtered_file_transfer_df = data_cmd[mask][[\n",
        "        'timestamp',\n",
        "        'winlog.record_id',\n",
        "        'winlog.event_data.User',\n",
        "        'winlog.event_data.ParentImage',\n",
        "        'winlog.event_data.Image'\n",
        "        #'winlog.event_data.CommandLine'\n",
        "        ]]\n",
        "\n",
        "    print(\"\\n\\033[1;34mFile Transfer command records:\\033[0m\")\n",
        "\n",
        "    unique_record = np.unique(filtered_file_transfer_df['winlog.record_id'])\n",
        "    for i in unique_record:\n",
        "      timestamp = np.unique(filtered_file_transfer_df.loc[filtered_file_transfer_df['winlog.record_id'] == i, 'timestamp'].values)\n",
        "      for j in timestamp:\n",
        "        users = np.unique(filtered_file_transfer_df.loc[(filtered_file_transfer_df['winlog.record_id'] == i) & (filtered_file_transfer_df['timestamp'] == j), 'winlog.event_data.User'].values)\n",
        "        for u in users:\n",
        "          parent_image = np.unique(filtered_file_transfer_df.loc[(filtered_file_transfer_df['winlog.record_id'] == i) & (filtered_file_transfer_df['timestamp'] == j) & (filtered_file_transfer_df['winlog.event_data.User'] == u), 'winlog.event_data.ParentImage'].values)\n",
        "          for p in parent_image:\n",
        "            images = np.unique(filtered_file_transfer_df.loc[(filtered_file_transfer_df['winlog.record_id'] == i) & (filtered_file_transfer_df['timestamp'] == j) & (filtered_file_transfer_df['winlog.event_data.User'] == u) & (filtered_file_transfer_df['winlog.event_data.ParentImage'] == p), 'winlog.event_data.Image'].values)\n",
        "          print(f\"Record ID: {i}, at {str(j)[-12:]},\\n\\tUser: {u}, Parent Image: {p}, Image: {images}\")\n",
        "\n",
        "\n",
        " # For discovery commands found, create a new dataframe\n",
        "  if found_discovery:\n",
        "    mask = data_cmd['winlog.event_data.CommandLine'].astype(str).str.contains(discovery_pattern, regex=True)\n",
        "    filtered_discovery_df = data_cmd[mask][[\n",
        "        'timestamp',\n",
        "        'winlog.record_id',\n",
        "        'winlog.event_data.User',\n",
        "        'winlog.event_data.ParentImage',\n",
        "        'winlog.event_data.Image'\n",
        "        #'winlog.event_data.CommandLine'\n",
        "        ]]\n",
        "\n",
        "    print(\"\\n\\033[1;34m\\nNetwork/ System Discovery command records:\\033[0m\")\n",
        "\n",
        "\n",
        "    unique_record = np.unique(filtered_discovery_df['winlog.record_id'])\n",
        "    for i in unique_record:\n",
        "      timestamp = np.unique(filtered_discovery_df.loc[filtered_discovery_df['winlog.record_id'] == i, 'timestamp'].values)\n",
        "      for j in timestamp:\n",
        "        users = np.unique(filtered_discovery_df.loc[(filtered_discovery_df['winlog.record_id'] == i) & (filtered_discovery_df['timestamp'] == j), 'winlog.event_data.User'].values)\n",
        "        for u in users:\n",
        "          parent_image = np.unique(filtered_discovery_df.loc[(filtered_discovery_df['winlog.record_id'] == i) & (filtered_discovery_df['timestamp'] == j) & (filtered_discovery_df['winlog.event_data.User'] == u), 'winlog.event_data.ParentImage'].values)\n",
        "          for p in parent_image:\n",
        "            images = np.unique(filtered_discovery_df.loc[(filtered_discovery_df['winlog.record_id'] == i) & (filtered_discovery_df['timestamp'] == j) & (filtered_discovery_df['winlog.event_data.User'] == u) & (filtered_discovery_df['winlog.event_data.ParentImage'] == p), 'winlog.event_data.Image'].values)\n",
        "          print(f\"Record ID: {i}, at {str(j)[-12:]},\\n\\tUser: {u}, Parent Image: {p}, Image: {images}\")\n",
        "\n",
        "\n",
        "def check_cmd_execution(dataframe):\n",
        "  if check_command_line(dataframe):\n",
        "    cmd_details(dataframe)\n",
        "  else:\n",
        "    print(\"No Command Line Detected\")"
      ],
      "metadata": {
        "id": "q9Eha5yVIrGz"
      },
      "execution_count": 9,
      "outputs": []
    },
    {
      "cell_type": "markdown",
      "source": [
        "## Output:"
      ],
      "metadata": {
        "id": "Dvv8cCrnyNPv"
      }
    },
    {
      "cell_type": "code",
      "source": [
        "check_cmd_execution(data_frame)"
      ],
      "metadata": {
        "id": "CQ3Ca7ZuIrJv",
        "colab": {
          "base_uri": "https://localhost:8080/"
        },
        "outputId": "f432b2a8-baf6-4440-9090-163fb5233f4c"
      },
      "execution_count": 10,
      "outputs": [
        {
          "output_type": "stream",
          "name": "stdout",
          "text": [
            "\u001b[1;31mAlert: Command Line execution detected\u001b[0m\n",
            "\u001b[31mPossible file transfer and network/ system discovery command detected: T1105 Ingress Tool Transfer | T1087 Account Discovery | T1049 System Network Connections Discovery\u001b[0m\n",
            "\n",
            "\u001b[1;34mFile Transfer command records:\u001b[0m\n",
            "Record ID: 951744, at 13:15:42.345,\n",
            "\tUser: GLENMORET\\simon.cooper1, Parent Image: C:\\Windows\\System32\\cmd.exe, Image: ['C:\\\\Windows\\\\System32\\\\curl.exe']\n",
            "Record ID: 952086, at 13:16:15.952,\n",
            "\tUser: GLENMORET\\simon.cooper1, Parent Image: C:\\Windows\\System32\\cmd.exe, Image: ['C:\\\\Windows\\\\System32\\\\curl.exe']\n",
            "Record ID: 952713, at 13:16:58.091,\n",
            "\tUser: GLENMORET\\simon.cooper1, Parent Image: C:\\Windows\\System32\\cmd.exe, Image: ['C:\\\\Windows\\\\System32\\\\curl.exe']\n",
            "Record ID: 952776, at 13:17:12.000,\n",
            "\tUser: GLENMORET\\simon.cooper1, Parent Image: C:\\Windows\\System32\\cmd.exe, Image: ['C:\\\\Windows\\\\System32\\\\curl.exe']\n",
            "\n",
            "\u001b[1;34m\n",
            "Network/ System Discovery command records:\u001b[0m\n",
            "Record ID: 951696, at 13:15:29.538,\n",
            "\tUser: GLENMORET\\simon.cooper1, Parent Image: C:\\Windows\\System32\\cmd.exe, Image: ['C:\\\\Windows\\\\System32\\\\whoami.exe']\n",
            "Record ID: 951744, at 13:15:42.345,\n",
            "\tUser: GLENMORET\\simon.cooper1, Parent Image: C:\\Windows\\System32\\cmd.exe, Image: ['C:\\\\Windows\\\\System32\\\\curl.exe']\n",
            "Record ID: 954426, at 13:20:14.127,\n",
            "\tUser: GLENMORET\\simon.cooper1, Parent Image: C:\\Windows\\System32\\cmd.exe, Image: ['C:\\\\Windows\\\\System32\\\\OpenSSH\\\\ssh.exe']\n",
            "Record ID: 954511, at 13:20:42.935,\n",
            "\tUser: GLENMORET\\simon.cooper1, Parent Image: C:\\Windows\\System32\\cmd.exe, Image: ['C:\\\\Windows\\\\System32\\\\OpenSSH\\\\ssh.exe']\n",
            "Record ID: 955212, at 13:21:45.344,\n",
            "\tUser: GLENMORET\\simon.cooper1, Parent Image: C:\\Windows\\System32\\cmd.exe, Image: ['C:\\\\Windows\\\\System32\\\\OpenSSH\\\\ssh.exe']\n",
            "Record ID: 955827, at 13:22:34.371,\n",
            "\tUser: GLENMORET\\simon.cooper1, Parent Image: C:\\Windows\\System32\\cmd.exe, Image: ['C:\\\\Windows\\\\System32\\\\OpenSSH\\\\ssh.exe']\n",
            "Record ID: 956048, at 13:23:30.869,\n",
            "\tUser: GLENMORET\\simon.cooper1, Parent Image: C:\\Windows\\System32\\cmd.exe, Image: ['C:\\\\Windows\\\\System32\\\\OpenSSH\\\\ssh.exe']\n",
            "Record ID: 956382, at 13:23:58.653,\n",
            "\tUser: GLENMORET\\simon.cooper1, Parent Image: C:\\Windows\\System32\\cmd.exe, Image: ['C:\\\\Windows\\\\System32\\\\OpenSSH\\\\ssh.exe']\n"
          ]
        }
      ]
    },
    {
      "cell_type": "markdown",
      "source": [
        "\n",
        "\n",
        "---\n",
        "\n"
      ],
      "metadata": {
        "id": "JslKBuEAPabd"
      }
    },
    {
      "cell_type": "markdown",
      "source": [
        "# Executable File Creation\n"
      ],
      "metadata": {
        "id": "rPVULSGd6NAf"
      }
    },
    {
      "cell_type": "code",
      "source": [
        "def check_FileExecutableDetected(dataframe):\n",
        "  swids = [\n",
        "            29\n",
        "            ]\n",
        "  if dataframe['winlog.event_id'].isin(swids).any() & dataframe['winlog.event_data.TargetFilename'].astype(str).str.contains(r\"C:\\\\Users\", regex=True).any():\n",
        "    print(f\"\\033[1;31mAlert: Sysmon ID 29 File Executable Creation in C:\\\\Users Detected \\n T1204.002 User Execution: Malicious File\\033[0m\")\n",
        "    return True\n",
        "\n",
        "def id_29_details(dataframe):\n",
        "  # prep\n",
        "  data_29 = dataframe.loc[\n",
        "      (dataframe['winlog.event_id'] == 29) &\n",
        "      (dataframe['winlog.event_data.TargetFilename'].astype(str).str.contains(r\"^C:\\\\Users\", case=False))\n",
        "  ]\n",
        "\n",
        "  unique_user = np.unique(data_29['winlog.event_data.User'])\n",
        "  unique_image = np.unique(data_29['winlog.event_data.Image'])\n",
        "\n",
        "  combinations = product(unique_user, unique_image)\n",
        "\n",
        "  results = []\n",
        "  for user, image in combinations:\n",
        "      mask = (data_29['winlog.event_data.User'] == user) & (data_29['winlog.event_data.Image'] == image)\n",
        "      if mask.any():\n",
        "        filtered = data_29[mask].sort_values('timestamp')\n",
        "        record_count = filtered.shape[0]\n",
        "        first_row = filtered.iloc[0]\n",
        "        results.append((user, image, first_row['winlog.record_id'], first_row['timestamp'], record_count))\n",
        "  result_df = pd.DataFrame(results, columns=['User', 'Image', 'Record_ID', 'Timestamp', 'Record_Count'])\n",
        "\n",
        "  for u in np.unique(result_df['User']):\n",
        "    print(f\"\\n\\033[1mUser: {u}\\033[0m:\")\n",
        "    for m in np.unique(result_df.loc[result_df['User'] == u, 'Image'].values):\n",
        "      for c in np.unique(result_df.loc[(result_df['User'] == u) & (result_df['Image'] == m), 'Record_Count'].values):\n",
        "        print(f\"\\tPrcoess: {m} - {c} file(s) created\")\n",
        "        for t in np.unique(result_df.loc[(result_df['User'] == u) & (result_df['Image'] == m)  & (result_df['Record_Count'] == c), 'Timestamp'].values):\n",
        "          for r in np.unique(result_df.loc[(result_df['User'] == u) & (result_df['Image'] == m) & (result_df['Record_Count'] == c) & (result_df['Timestamp'] == t), 'Record_ID'].values):\n",
        "            print(f\"\\t\\tFirst file created at {str(t)[-12:]}, Record ID: {r}\")\n",
        "\n",
        "def executablefilecreation(dataframe):\n",
        "  if check_FileExecutableDetected(dataframe):\n",
        "    id_29_details(dataframe)\n",
        "  else:\n",
        "    print(\"No Sysmon ID 29 File Executable Creation Detected\")"
      ],
      "metadata": {
        "id": "hX6dlUQqPZvg"
      },
      "execution_count": 11,
      "outputs": []
    },
    {
      "cell_type": "markdown",
      "source": [
        "## Output:"
      ],
      "metadata": {
        "id": "xJFzIOMNyOhx"
      }
    },
    {
      "cell_type": "code",
      "source": [
        "executablefilecreation(data_frame)"
      ],
      "metadata": {
        "id": "YkER1qx_IrMM",
        "colab": {
          "base_uri": "https://localhost:8080/"
        },
        "outputId": "3b7a4bf5-e0f5-47fa-d584-93a878ffe04c"
      },
      "execution_count": 12,
      "outputs": [
        {
          "output_type": "stream",
          "name": "stdout",
          "text": [
            "\u001b[1;31mAlert: Sysmon ID 29 File Executable Creation in C:\\Users Detected \n",
            " T1204.002 User Execution: Malicious File\u001b[0m\n",
            "\n",
            "\u001b[1mUser: GLENMORET\\simon.cooper1\u001b[0m:\n",
            "\tPrcoess: C:\\Users\\simon.cooper1.GLENMORET\\Desktop\\AngryIPScannerPortable\\AngryIPScannerPortable.exe - 2 file(s) created\n",
            "\t\tFirst file created at 13:18:16.726, Record ID: 953857\n",
            "\tPrcoess: C:\\Users\\simon.cooper1.GLENMORET\\Desktop\\AngryIPScannerPortable\\App\\AngryIPScanner\\jre\\bin\\javaw.exe - 2 file(s) created\n",
            "\t\tFirst file created at 13:18:18.063, Record ID: 954045\n",
            "\tPrcoess: C:\\Users\\simon.cooper1.GLENMORET\\Desktop\\scanner.paf.exe - 20 file(s) created\n",
            "\t\tFirst file created at 13:17:36.292, Record ID: 953220\n",
            "\tPrcoess: C:\\Windows\\system32\\curl.exe - 1 file(s) created\n",
            "\t\tFirst file created at 13:17:16.506, Record ID: 952823\n"
          ]
        }
      ]
    },
    {
      "cell_type": "markdown",
      "source": [
        "\n",
        "\n",
        "---\n",
        "\n"
      ],
      "metadata": {
        "id": "LO3xh50GQwFJ"
      }
    },
    {
      "cell_type": "markdown",
      "source": [
        "# Possible Process Injection Detection"
      ],
      "metadata": {
        "id": "njFHro-nQw3Z"
      }
    },
    {
      "cell_type": "code",
      "source": [
        "def check_CreateRemoteThread(dataframe):\n",
        "  swids = [\n",
        "            8\n",
        "            ]\n",
        "  if dataframe['winlog.event_id'].isin(swids).any():\n",
        "    print(f\"\\033[1;31mTo Investigate: Possible Process Injection detected \\nT1055 Process Injection\\n\\033[0m\")\n",
        "    return True\n",
        "  else:\n",
        "    print(\"No Sysmon ID 8 CreateRemoteThread Detected\")\n",
        "\n",
        "\n",
        "def id_8_details(dataframe):\n",
        "  # prep\n",
        "  data_8 = dataframe.loc[(dataframe['winlog.event_id'] == 8)]\n",
        "\n",
        "  record_count = data_8.shape[0]\n",
        "  unique_source_process = np.unique(data_8['winlog.event_data.SourceImage'])\n",
        "  unique_target_process = np.unique(data_8['winlog.event_data.TargetImage'])\n",
        "  unique_user = np.unique(data_8['winlog.event_data.SourceUser'])\n",
        "\n",
        "  for u in unique_user:\n",
        "    print(f\"\\033[1mUser: {u}\\033[0m, Record Count: {record_count}\")\n",
        "    source_process = np.unique(data_8.loc[data_8['winlog.event_data.SourceUser'] == u, 'winlog.event_data.SourceImage'].values)\n",
        "    for s in source_process:\n",
        "      target_process = np.unique(data_8.loc[(data_8['winlog.event_data.SourceUser'] == u) & (data_8['winlog.event_data.SourceImage'] == s), 'winlog.event_data.TargetImage'].values)\n",
        "      for p in target_process:\n",
        "        start_address = np.unique(data_8.loc[(data_8['winlog.event_data.SourceUser'] == u) & (data_8['winlog.event_data.SourceImage'] == s) &\n",
        "         (data_8['winlog.event_data.TargetImage'] == p), 'winlog.event_data.StartAddress'].values)\n",
        "        for a in start_address:\n",
        "          start_function = np.unique(data_8.loc[(data_8['winlog.event_data.SourceUser'] == u) & (data_8['winlog.event_data.SourceImage'] == s) &\n",
        "           (data_8['winlog.event_data.TargetImage'] == p) & (data_8['winlog.event_data.StartAddress'] == a), 'winlog.event_data.StartFunction'].values)\n",
        "          for f in start_function:\n",
        "            start_module = np.unique(data_8.loc[(data_8['winlog.event_data.SourceUser'] == u) & (data_8['winlog.event_data.SourceImage'] == s) & (data_8['winlog.event_data.TargetImage'] == p) & (data_8['winlog.event_data.StartAddress'] == a) & (data_8['winlog.event_data.StartFunction'] == f), 'winlog.event_data.StartModule'].values)\n",
        "            for m in start_module:\n",
        "              print(f\"Source Process: {s}, Target Process: {p}, Start Address: {a}, Start Function: {f}, Start Module: {m}\")\n",
        "\n",
        "\n",
        "  combinations = product(unique_user, unique_source_process, unique_target_process)\n",
        "  results = []\n",
        "\n",
        "  for user, source_process, target_process in combinations:\n",
        "      mask = (data_8['winlog.event_data.SourceUser'] == user) & (data_8['winlog.event_data.SourceImage'] == source_process) & (data_8['winlog.event_data.TargetImage'] == target_process)\n",
        "      if mask.any():\n",
        "        filtered = data_8[mask].sort_values('timestamp')\n",
        "        for _, row in filtered.iterrows():\n",
        "          results.append((row['winlog.record_id'], row['timestamp']))\n",
        "  result_df = pd.DataFrame(results, columns=['Record_ID', 'Timestamp'])\n",
        "\n",
        "  print(f\"Record ID(s):{', '.join(map(str, result_df['Record_ID'].tolist()))}\")\n",
        "\n",
        "def CreateRemoteThread_detection(dataframe):\n",
        "  if check_CreateRemoteThread(dataframe):\n",
        "    id_8_details(dataframe)\n",
        "  else:\n",
        "    print(\"No Sysmon ID 8 CreateRemoteThread Detected\")"
      ],
      "metadata": {
        "id": "FGePLVLQQu-c"
      },
      "execution_count": 13,
      "outputs": []
    },
    {
      "cell_type": "markdown",
      "source": [
        "## Output:"
      ],
      "metadata": {
        "id": "c-YcClGKyPv2"
      }
    },
    {
      "cell_type": "code",
      "source": [
        "CreateRemoteThread_detection(data_frame)"
      ],
      "metadata": {
        "colab": {
          "base_uri": "https://localhost:8080/"
        },
        "id": "wvaK_Pl-QvBA",
        "outputId": "7a488554-3094-4c55-ea00-b9155470843a"
      },
      "execution_count": 14,
      "outputs": [
        {
          "output_type": "stream",
          "name": "stdout",
          "text": [
            "\u001b[1;31mTo Investigate: Possible Process Injection detected \n",
            "T1055 Process Injection\n",
            "\u001b[0m\n",
            "\u001b[1mUser: GLENMORET\\tony.barry1\u001b[0m, Record Count: 4\n",
            "Source Process: C:\\Windows\\System32\\rdpclip.exe, Target Process: C:\\Windows\\System32\\csrss.exe, Start Address: 0xFFFF9A65900F2E00, Start Function: -, Start Module: -\n",
            "Record ID(s):915353, 915372, 921722, 921728\n"
          ]
        }
      ]
    },
    {
      "cell_type": "markdown",
      "source": [
        "\n",
        "\n",
        "---\n",
        "\n"
      ],
      "metadata": {
        "id": "57GNNUe-x0sQ"
      }
    }
  ]
}
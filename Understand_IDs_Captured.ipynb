{
  "nbformat": 4,
  "nbformat_minor": 0,
  "metadata": {
    "colab": {
      "provenance": []
    },
    "kernelspec": {
      "name": "python3",
      "display_name": "Python 3"
    },
    "language_info": {
      "name": "python"
    }
  },
  "cells": [
    {
      "cell_type": "markdown",
      "source": [
        "The notebook identifies the Event IDs captured in the log file and provides short explanations for each, sourced from the Ultimate IT Security Encyclopedia using the web scraping library BeautifulSoup."
      ],
      "metadata": {
        "id": "WqCgQbVfsCo3"
      }
    },
    {
      "cell_type": "code",
      "execution_count": 1,
      "metadata": {
        "id": "OVjCBomJvhYa"
      },
      "outputs": [],
      "source": [
        "# import libraries\n",
        "\n",
        "from bs4 import BeautifulSoup\n",
        "import requests\n",
        "import numpy as np\n",
        "import csv"
      ]
    },
    {
      "cell_type": "markdown",
      "source": [
        "###### **I. Preparing the foundation data**"
      ],
      "metadata": {
        "id": "19wU2yO6d3ku"
      }
    },
    {
      "cell_type": "code",
      "source": [
        "# import mock data\n",
        "with open('mock_data.csv') as csvfile:\n",
        "  event_data = csv.reader(csvfile, delimiter=',')\n",
        "\n",
        "  # extract header and create a mapping of column name to index\n",
        "  headers = next(event_data)\n",
        "  col_index = {name: i for i, name in enumerate(headers)}\n",
        "\n",
        "  # using set ({}) to draw out only unique values\n",
        "  u_event_ids = {row[col_index['winlog.event_id']] for row in event_data if row}\n",
        "\n",
        "  # change from set into a list\n",
        "  u_event_ids = list(u_event_ids)\n",
        "\n",
        "  # a numerical sort\n",
        "  sorted_ids = sorted(u_event_ids, key=int)\n",
        "  print(sorted_ids)"
      ],
      "metadata": {
        "id": "pB7voyEnvwOR",
        "colab": {
          "base_uri": "https://localhost:8080/"
        },
        "outputId": "29ada282-1255-4ef3-d64f-419565ce0a13"
      },
      "execution_count": 2,
      "outputs": [
        {
          "output_type": "stream",
          "name": "stdout",
          "text": [
            "['1', '2', '3', '7', '8', '10', '11', '12', '13', '17', '18', '22', '26', '29', '4624', '4625', '4634', '4647', '4648', '4672', '4732', '4776', '4798', '4799', '5058', '5059', '5061', '5379']\n"
          ]
        }
      ]
    },
    {
      "cell_type": "code",
      "source": [
        "# convert sorted_ids to array\n",
        "event_id_array = np.array(sorted_ids)\n",
        "event_id_array"
      ],
      "metadata": {
        "id": "X01JdHQWeznl",
        "colab": {
          "base_uri": "https://localhost:8080/"
        },
        "outputId": "80f0d731-fc3e-4f32-d11a-30c8d2b6750d"
      },
      "execution_count": 3,
      "outputs": [
        {
          "output_type": "execute_result",
          "data": {
            "text/plain": [
              "array(['1', '2', '3', '7', '8', '10', '11', '12', '13', '17', '18', '22',\n",
              "       '26', '29', '4624', '4625', '4634', '4647', '4648', '4672', '4732',\n",
              "       '4776', '4798', '4799', '5058', '5059', '5061', '5379'],\n",
              "      dtype='<U4')"
            ]
          },
          "metadata": {},
          "execution_count": 3
        }
      ]
    },
    {
      "cell_type": "markdown",
      "source": [
        "###### **II. Mapping the IDs and URL structure**"
      ],
      "metadata": {
        "id": "z7oFRDdQkTuI"
      }
    },
    {
      "cell_type": "code",
      "source": [
        "## url for different Sysmon and Windows count\n",
        "\n",
        "# Windows IDs - 4 digits IDs\n",
        "url_main = \"https://www.ultimatewindowssecurity.com/securitylog/encyclopedia/event.aspx?eventid=\"\n",
        "\n",
        "# Sysmon IDs - between 1 and 2 digits\n",
        "url_main_1 = \"https://www.ultimatewindowssecurity.com/securitylog/encyclopedia/event.aspx?eventid=9000\"\n",
        "url_main_2 = \"https://www.ultimatewindowssecurity.com/securitylog/encyclopedia/event.aspx?eventid=900\""
      ],
      "metadata": {
        "id": "z0hTIxnSkIOc"
      },
      "execution_count": 4,
      "outputs": []
    },
    {
      "cell_type": "code",
      "source": [
        "# iterate through the array to determine which URL structure to use, if the ID = 4 digits, use main, if 2, then use url 2, else use url 1)\n",
        "\n",
        "url_col = []\n",
        "for item in event_id_array:\n",
        " digit_count = len(item)\n",
        "\n",
        " if digit_count == 4:\n",
        "  value = url_main\n",
        " elif digit_count == 2:\n",
        "  value = url_main_2\n",
        " else:\n",
        "  value = url_main_1\n",
        "\n",
        " url_col.append(value)\n",
        "\n",
        "print(url_col[:5])"
      ],
      "metadata": {
        "colab": {
          "base_uri": "https://localhost:8080/"
        },
        "id": "IhV8zxTQMmZE",
        "outputId": "4a1c8df6-59d7-4d0e-9f6d-556124406292"
      },
      "execution_count": 5,
      "outputs": [
        {
          "output_type": "stream",
          "name": "stdout",
          "text": [
            "['https://www.ultimatewindowssecurity.com/securitylog/encyclopedia/event.aspx?eventid=9000', 'https://www.ultimatewindowssecurity.com/securitylog/encyclopedia/event.aspx?eventid=9000', 'https://www.ultimatewindowssecurity.com/securitylog/encyclopedia/event.aspx?eventid=9000', 'https://www.ultimatewindowssecurity.com/securitylog/encyclopedia/event.aspx?eventid=9000', 'https://www.ultimatewindowssecurity.com/securitylog/encyclopedia/event.aspx?eventid=9000']\n"
          ]
        }
      ]
    },
    {
      "cell_type": "markdown",
      "source": [
        "###### **III. Check and prep the event Ids and urls arrays before merging**"
      ],
      "metadata": {
        "id": "5Aalzj7_a3rA"
      }
    },
    {
      "cell_type": "code",
      "source": [
        "type(event_id_array), len(event_id_array)"
      ],
      "metadata": {
        "colab": {
          "base_uri": "https://localhost:8080/"
        },
        "id": "tEr7d1ExVVfU",
        "outputId": "5c00ece9-4a96-4e20-d9f1-5a5b0a6ccc5e"
      },
      "execution_count": 6,
      "outputs": [
        {
          "output_type": "execute_result",
          "data": {
            "text/plain": [
              "(numpy.ndarray, 28)"
            ]
          },
          "metadata": {},
          "execution_count": 6
        }
      ]
    },
    {
      "cell_type": "code",
      "source": [
        "type(url_col), len(url_col)"
      ],
      "metadata": {
        "colab": {
          "base_uri": "https://localhost:8080/"
        },
        "id": "NUrpTYCCXr-A",
        "outputId": "67a423c1-893b-4548-9a15-81614b527eef"
      },
      "execution_count": 7,
      "outputs": [
        {
          "output_type": "execute_result",
          "data": {
            "text/plain": [
              "(list, 28)"
            ]
          },
          "metadata": {},
          "execution_count": 7
        }
      ]
    },
    {
      "cell_type": "code",
      "source": [
        "# convert url column to numpy array\n",
        "url_col_array = np.array(url_col)[:, np.newaxis]"
      ],
      "metadata": {
        "id": "7bVFg4qsjHAG"
      },
      "execution_count": 8,
      "outputs": []
    },
    {
      "cell_type": "code",
      "source": [
        "url_col_array.shape"
      ],
      "metadata": {
        "colab": {
          "base_uri": "https://localhost:8080/"
        },
        "id": "J3nPsackV-kX",
        "outputId": "4bd46217-9f4e-436f-8486-ea15d30e1e07"
      },
      "execution_count": 9,
      "outputs": [
        {
          "output_type": "execute_result",
          "data": {
            "text/plain": [
              "(28, 1)"
            ]
          },
          "metadata": {},
          "execution_count": 9
        }
      ]
    },
    {
      "cell_type": "code",
      "source": [
        "event_id_array.shape"
      ],
      "metadata": {
        "colab": {
          "base_uri": "https://localhost:8080/"
        },
        "id": "1rsc81SZVwZh",
        "outputId": "4f8f6e09-0342-49d7-b85d-c438abfdbc10"
      },
      "execution_count": 10,
      "outputs": [
        {
          "output_type": "execute_result",
          "data": {
            "text/plain": [
              "(28,)"
            ]
          },
          "metadata": {},
          "execution_count": 10
        }
      ]
    },
    {
      "cell_type": "code",
      "source": [
        "# reshape event_id_array to match dimension with url_column to be able to concatenate column wise\n",
        "event_id_array_2d = event_id_array[:, np.newaxis]"
      ],
      "metadata": {
        "id": "XT5izT2IV-nW"
      },
      "execution_count": 11,
      "outputs": []
    },
    {
      "cell_type": "code",
      "source": [
        "event_id_array_2d.shape"
      ],
      "metadata": {
        "colab": {
          "base_uri": "https://localhost:8080/"
        },
        "id": "9ZAjikK2YlZo",
        "outputId": "c34c9464-cfde-4829-99e1-3e8797b9511b"
      },
      "execution_count": 12,
      "outputs": [
        {
          "output_type": "execute_result",
          "data": {
            "text/plain": [
              "(28, 1)"
            ]
          },
          "metadata": {},
          "execution_count": 12
        }
      ]
    },
    {
      "cell_type": "markdown",
      "source": [
        "###### **IV. Constructing the URLs**"
      ],
      "metadata": {
        "id": "n_Q7jIZRnBf5"
      }
    },
    {
      "cell_type": "code",
      "source": [
        "# use hstack to concatenate the url column and the event ids together, in preparation to concatenate them to form working urls, show only first 5 results\n",
        "url_stack = np.hstack((url_col_array, event_id_array_2d))\n",
        "url_stack[:5]"
      ],
      "metadata": {
        "colab": {
          "base_uri": "https://localhost:8080/"
        },
        "id": "77yCTfADjHDJ",
        "outputId": "c2018158-62a1-481d-e48f-6401ccedba88"
      },
      "execution_count": 13,
      "outputs": [
        {
          "output_type": "execute_result",
          "data": {
            "text/plain": [
              "array([['https://www.ultimatewindowssecurity.com/securitylog/encyclopedia/event.aspx?eventid=9000',\n",
              "        '1'],\n",
              "       ['https://www.ultimatewindowssecurity.com/securitylog/encyclopedia/event.aspx?eventid=9000',\n",
              "        '2'],\n",
              "       ['https://www.ultimatewindowssecurity.com/securitylog/encyclopedia/event.aspx?eventid=9000',\n",
              "        '3'],\n",
              "       ['https://www.ultimatewindowssecurity.com/securitylog/encyclopedia/event.aspx?eventid=9000',\n",
              "        '7'],\n",
              "       ['https://www.ultimatewindowssecurity.com/securitylog/encyclopedia/event.aspx?eventid=9000',\n",
              "        '8']], dtype='<U88')"
            ]
          },
          "metadata": {},
          "execution_count": 13
        }
      ]
    },
    {
      "cell_type": "code",
      "source": [
        "# string urls and ids together\n",
        "\n",
        "urls_array = np.char.add(url_stack[:, 0],url_stack[:, 1])\n",
        "urls_array[:5]"
      ],
      "metadata": {
        "colab": {
          "base_uri": "https://localhost:8080/"
        },
        "id": "edQrMnE1jHF2",
        "outputId": "f06770a0-0b9d-418b-df42-eb4d6cbeabce"
      },
      "execution_count": 14,
      "outputs": [
        {
          "output_type": "execute_result",
          "data": {
            "text/plain": [
              "array(['https://www.ultimatewindowssecurity.com/securitylog/encyclopedia/event.aspx?eventid=90001',\n",
              "       'https://www.ultimatewindowssecurity.com/securitylog/encyclopedia/event.aspx?eventid=90002',\n",
              "       'https://www.ultimatewindowssecurity.com/securitylog/encyclopedia/event.aspx?eventid=90003',\n",
              "       'https://www.ultimatewindowssecurity.com/securitylog/encyclopedia/event.aspx?eventid=90007',\n",
              "       'https://www.ultimatewindowssecurity.com/securitylog/encyclopedia/event.aspx?eventid=90008'],\n",
              "      dtype='<U176')"
            ]
          },
          "metadata": {},
          "execution_count": 14
        }
      ]
    },
    {
      "cell_type": "markdown",
      "source": [
        "###### **V. Getting Event ID short snippet**"
      ],
      "metadata": {
        "id": "Zmqr4Fw7ogKY"
      }
    },
    {
      "cell_type": "code",
      "source": [
        "# iterate through the list of working urls and extract the information from p tag, class 'hey'\n",
        "content = []\n",
        "for i in urls_array:\n",
        "  url = i\n",
        "  req = requests.get(url)\n",
        "  soup = BeautifulSoup(req.text, 'html.parser')\n",
        "  find_loc = soup.find_all('p', {'class': \"hey\"})\n",
        "  for j in find_loc:\n",
        "    content.append((j.text))"
      ],
      "metadata": {
        "id": "ay-LYUccoDUy"
      },
      "execution_count": 15,
      "outputs": []
    },
    {
      "cell_type": "code",
      "source": [
        "# remove tab or new line\n",
        "content = [x.strip() for x in content]\n",
        "content"
      ],
      "metadata": {
        "colab": {
          "base_uri": "https://localhost:8080/"
        },
        "id": "IxQsG5d5o8kY",
        "outputId": "4a7c3de5-9d0f-49c7-8fe8-31e32bbe2e49"
      },
      "execution_count": 16,
      "outputs": [
        {
          "output_type": "execute_result",
          "data": {
            "text/plain": [
              "['1: Process creation',\n",
              " '2: A process changed a file creation time',\n",
              " '3: Network connection detected',\n",
              " '7: Image loaded',\n",
              " '8: CreateRemoteThread',\n",
              " '10: ProcessAccess',\n",
              " '11: FileCreate',\n",
              " '12: RegistryEvent (Object create and delete)',\n",
              " '13: RegistryEvent (Value Set)',\n",
              " '17: Pipe created',\n",
              " '18: Pipe connected',\n",
              " '22: DNSEvent',\n",
              " '26: File Delete Logged',\n",
              " '29: File Executable Detected',\n",
              " '4624: An account was successfully logged on',\n",
              " '4625: An account failed to log on',\n",
              " '4634: An account was logged off',\n",
              " '4647: User initiated logoff',\n",
              " '4648: A logon was attempted using explicit credentials',\n",
              " '4672: Special privileges assigned to new logon',\n",
              " '4732: A member was added to a security-enabled local group',\n",
              " '4776: The domain controller attempted to validate the credentials for an account',\n",
              " \"4798: A user's local group membership was enumerated.\",\n",
              " '4799: A security-enabled local group membership was enumerated',\n",
              " '5058: Key file operation',\n",
              " '5059: Key migration operation',\n",
              " '5061: Cryptographic operation',\n",
              " '5379: Credential Manager credentials were read']"
            ]
          },
          "metadata": {},
          "execution_count": 16
        }
      ]
    }
  ]
}